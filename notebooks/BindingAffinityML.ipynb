{
 "cells": [
  {
   "cell_type": "markdown",
   "metadata": {},
   "source": [
    "# Machine Learning Model for Binding Affinity using BindingDB\n"
   ]
  },
  {
   "cell_type": "markdown",
   "metadata": {},
   "source": [
    "#### Install dependencies and import modules"
   ]
  },
  {
   "cell_type": "code",
   "execution_count": 1,
   "metadata": {},
   "outputs": [],
   "source": [
    "# Install dependencies\n",
    "!pip install -q torch fair-esm transformers aiondata vectorizedb &> /dev/null\n",
    "\n",
    "# Standard library imports\n",
    "import os\n",
    "from pathlib import Path\n",
    "\n",
    "# Third-party imports for numerical operations and machine learning\n",
    "import joblib\n",
    "import numpy as np\n",
    "import torch\n",
    "from sklearn.ensemble import RandomForestClassifier\n",
    "from sklearn.metrics import roc_auc_score\n",
    "from sklearn.model_selection import train_test_split\n",
    "from tqdm.auto import tqdm\n",
    "from vectorizedb import Database\n",
    "\n",
    "# Third-party imports for deep learning and specific models\n",
    "from transformers import AutoTokenizer, AutoModel\n",
    "\n",
    "# Imports from specific libraries used in cheminformatics and bioinformatics\n",
    "from rdkit import RDLogger\n",
    "import esm\n",
    "from aiondata import BindingAffinity\n",
    "\n",
    "aiondata_path = Path(os.environ.get(\"AIONDATA_CACHE\", \"~/.aiondata\")).expanduser()\n",
    "ligand_dim = 768\n",
    "protein_dim = 480\n",
    "\n",
    "# Only test on n examples, set to None to test on all examples\n",
    "test_only_n_examples = 100"
   ]
  },
  {
   "cell_type": "markdown",
   "metadata": {},
   "source": [
    "#### Optional: Load previously saved model and data"
   ]
  },
  {
   "cell_type": "code",
   "execution_count": 2,
   "metadata": {},
   "outputs": [],
   "source": [
    "# Load the pre-trained model\n",
    "try:\n",
    "    model = joblib.load(aiondata_path / \"models\" / \"binding_affinity.joblib\")\n",
    "except FileNotFoundError:\n",
    "    print(\"Model not found. Please train the model first.\")\n",
    "\n",
    "# Load embeddings\n",
    "try: \n",
    "    X_ligands = Database(aiondata_path / \"embeddings\" / \"ligands\", dim=ligand_dim)\n",
    "    X_proteins = Database(aiondata_path / \"embeddings\" / \"proteins\", dim=protein_dim)\n",
    "except FileNotFoundError:\n",
    "    print(\"Embeddings not found. Please generate embeddings first.\")\n",
    "\n"
   ]
  },
  {
   "cell_type": "markdown",
   "metadata": {},
   "source": [
    "#### Load BindingAffinity and prepare for machine learning"
   ]
  },
  {
   "cell_type": "code",
   "execution_count": 3,
   "metadata": {},
   "outputs": [],
   "source": [
    "\n",
    "# Load BindingDB into a Polars DataFrame\n",
    "df = BindingAffinity().to_df()\n",
    "\n",
    "# Filter out rows with missing SMILES, Sequence, or Binds values\n",
    "df = df.drop_nulls(subset=[\"SMILES\", \"Sequence\", \"Binds\"])\n",
    "\n",
    "# For test purposes only use a subset of the data\n",
    "if test_only_n_examples:\n",
    "    df = df.sample(n=test_only_n_examples, shuffle=True, seed=18)\n",
    "\n",
    "# Get the SMILES, Sequence, and Binds columns\n",
    "ligands = df[\"SMILES\"]\n",
    "target_sequence = df[\"Sequence\"]\n",
    "affinity = df[\"Binds\"]\n",
    "\n",
    "# Suppress RDKit warnings and errors\n",
    "RDLogger.DisableLog(\"rdApp.*\")  "
   ]
  },
  {
   "cell_type": "markdown",
   "metadata": {},
   "source": [
    "#### Create Protein Embeddings using ESM"
   ]
  },
  {
   "cell_type": "code",
   "execution_count": 4,
   "metadata": {},
   "outputs": [
    {
     "data": {
      "application/vnd.jupyter.widget-view+json": {
       "model_id": "21e0aaa557674c9ea77386bad4e1d6d1",
       "version_major": 2,
       "version_minor": 0
      },
      "text/plain": [
       "Generating protein embeddings:   0%|          | 0/100 [00:00<?, ? proteins/s]"
      ]
     },
     "metadata": {},
     "output_type": "display_data"
    }
   ],
   "source": [
    "protein_embedding_cache = {}\n",
    "\n",
    "# Load ESM-35m model\n",
    "model, alphabet = esm.pretrained.esm2_t12_35M_UR50D()\n",
    "\n",
    "# Prepare model and move it to evaluation mode\n",
    "model = model.eval()\n",
    "if torch.cuda.is_available():\n",
    "    model = model.cuda()\n",
    "\n",
    "def create_protein_embedding(sequence: str, cache: dict):\n",
    "    \"\"\"Generate embeddings for a single protein sequence using a cache to store previous computations.\"\"\"\n",
    "    if sequence in cache:\n",
    "        return cache[sequence]\n",
    "\n",
    "    # Convert sequence to tokens\n",
    "    tokens = torch.tensor([alphabet.encode(sequence)])\n",
    "    if torch.cuda.is_available():\n",
    "        tokens = tokens.cuda()\n",
    "\n",
    "    with torch.no_grad():\n",
    "        results = model(tokens, repr_layers=[12])  # Extract embeddings from the last layer\n",
    "\n",
    "    # Extract embeddings and move to cpu\n",
    "    embeddings = results[\"representations\"][12].squeeze(0).cpu()\n",
    "\n",
    "    # Reduce the embeddings to 1D by averaging across the sequence length\n",
    "    embeddings_1d = embeddings.mean(dim=0)\n",
    "\n",
    "    # Store in cache\n",
    "    cache[sequence] = embeddings_1d\n",
    "    \n",
    "    return embeddings_1d\n",
    "\n",
    "def create_embedding_generator(sequences: list[str]):\n",
    "    \"\"\"Generate embeddings for a list of protein sequences.\"\"\"\n",
    "    for sequence in tqdm(sequences, desc=\"Generating protein embeddings\", unit=\" proteins\"):\n",
    "        yield create_protein_embedding(sequence, protein_embedding_cache).numpy()\n",
    "\n",
    "# Generate embeddings for all protein sequences\n",
    "X_proteins = np.array(list(create_embedding_generator(target_sequence)), dtype=np.float32)\n"
   ]
  },
  {
   "cell_type": "markdown",
   "metadata": {},
   "source": [
    "#### Create Ligand Embeddings using ChemBERTa"
   ]
  },
  {
   "cell_type": "code",
   "execution_count": 5,
   "metadata": {},
   "outputs": [
    {
     "data": {
      "application/vnd.jupyter.widget-view+json": {
       "model_id": "8527b923303340b699568e32bbe7c359",
       "version_major": 2,
       "version_minor": 0
      },
      "text/plain": [
       "Generating ligand embeddings:   0%|          | 0/100 [00:00<?, ? ligand/s]"
      ]
     },
     "metadata": {},
     "output_type": "display_data"
    }
   ],
   "source": [
    "ligand_embedding_cache = {}\n",
    "\n",
    "# Load ChemBERTa model and tokenizer\n",
    "chemberta_tokenizer = AutoTokenizer.from_pretrained(\"seyonec/ChemBERTa-zinc-base-v1\")\n",
    "chemberta_model = AutoModel.from_pretrained(\"seyonec/ChemBERTa-zinc-base-v1\")\n",
    "chemberta_model.eval()\n",
    "\n",
    "def create_ligand_embedding(smiles: str, cache: dict):\n",
    "    \"\"\"Generate embeddings for a single SMILES string using a cache to store previous computations.\"\"\"\n",
    "    if smiles in cache:\n",
    "        return cache[smiles]\n",
    "    \n",
    "    # Truncate SMILES string to 512 characters, required by ChemBERTa\n",
    "    if len(smiles) > 512:\n",
    "        smiles = smiles[:512]\n",
    "    \n",
    "    inputs = chemberta_tokenizer(smiles, return_tensors=\"pt\")\n",
    "    \n",
    "    with torch.no_grad():\n",
    "        outputs = chemberta_model(**inputs)\n",
    "    \n",
    "    # Take the mean of the last hidden state to get a single vector representation\n",
    "    embedding = outputs.last_hidden_state.mean(dim=1).squeeze(0)\n",
    "    \n",
    "    # Store in cache\n",
    "    cache[smiles] = embedding\n",
    "    \n",
    "    return embedding\n",
    "\n",
    "def create_embedding_generator(smiles: list[str]):\n",
    "    \"\"\"Generate embeddings for a list of SMILES strings.\"\"\"\n",
    "    for smile in tqdm(smiles, desc=\"Generating ligand embeddings\", unit=\" ligand\"):\n",
    "        yield create_ligand_embedding(smile, ligand_embedding_cache).numpy()\n",
    "\n",
    "# Generate embeddings for all ligands\n",
    "X_ligands = np.array(list(create_embedding_generator(ligands)), dtype=np.float32)\n"
   ]
  },
  {
   "cell_type": "markdown",
   "metadata": {},
   "source": [
    "#### Create the model and predict binding values"
   ]
  },
  {
   "cell_type": "code",
   "execution_count": 6,
   "metadata": {},
   "outputs": [
    {
     "name": "stdout",
     "output_type": "stream",
     "text": [
      "ROC-AUC score: 0.9121\n"
     ]
    }
   ],
   "source": [
    "X = np.concatenate([X_ligands, X_proteins], axis=1)\n",
    "# Make affinity into a numpy y array\n",
    "y = affinity.to_numpy()\n",
    "X_train, X_test, y_train, y_test = train_test_split(X, y, test_size=0.2, random_state=18)\n",
    "\n",
    "# Train a new Random Forest model\n",
    "model = RandomForestClassifier(n_estimators=100, random_state=18)\n",
    "model.fit(X_train, y_train)\n",
    "\n",
    "# Evaluate the model ROC-AUC score\n",
    "y_pred = model.predict_proba(X_test)[:, 1]\n",
    "roc_auc = roc_auc_score(y_test, y_pred)\n",
    "\n",
    "print(f\"ROC-AUC score: {roc_auc:.4f}\")"
   ]
  },
  {
   "cell_type": "markdown",
   "metadata": {},
   "source": [
    "#### Save the model and embeddings\n"
   ]
  },
  {
   "cell_type": "code",
   "execution_count": 8,
   "metadata": {},
   "outputs": [
    {
     "name": "stdout",
     "output_type": "stream",
     "text": [
      "torch.float32\n"
     ]
    },
    {
     "ename": "ValueError",
     "evalue": "Vector must be of type np.float32",
     "output_type": "error",
     "traceback": [
      "\u001b[0;31m---------------------------------------------------------------------------\u001b[0m",
      "\u001b[0;31mValueError\u001b[0m                                Traceback (most recent call last)",
      "Cell \u001b[0;32mIn[8], line 13\u001b[0m\n\u001b[1;32m     11\u001b[0m \u001b[38;5;28;01mfor\u001b[39;00m key, value \u001b[38;5;129;01min\u001b[39;00m ligand_embedding_cache\u001b[38;5;241m.\u001b[39mitems():\n\u001b[1;32m     12\u001b[0m     \u001b[38;5;28mprint\u001b[39m(value\u001b[38;5;241m.\u001b[39mdtype)\n\u001b[0;32m---> 13\u001b[0m     \u001b[43mligands_db\u001b[49m\u001b[43m[\u001b[49m\u001b[43mkey\u001b[49m\u001b[43m]\u001b[49m \u001b[38;5;241m=\u001b[39m value\n\u001b[1;32m     14\u001b[0m \u001b[38;5;28;01mfor\u001b[39;00m key, value \u001b[38;5;129;01min\u001b[39;00m protein_embedding_cache\u001b[38;5;241m.\u001b[39mitems():\n\u001b[1;32m     15\u001b[0m     proteins_db[key] \u001b[38;5;241m=\u001b[39m value\n",
      "File \u001b[0;32m~/Library/Caches/pypoetry/virtualenvs/aiondata-mTfynZ7s-py3.12/lib/python3.12/site-packages/vectorizedb/__init__.py:232\u001b[0m, in \u001b[0;36mDatabase.__setitem__\u001b[0;34m(self, key, val)\u001b[0m\n\u001b[1;32m    230\u001b[0m \u001b[38;5;28;01melse\u001b[39;00m:\n\u001b[1;32m    231\u001b[0m     vector, metadata \u001b[38;5;241m=\u001b[39m val, \u001b[38;5;28;01mNone\u001b[39;00m\n\u001b[0;32m--> 232\u001b[0m \u001b[38;5;28;43mself\u001b[39;49m\u001b[38;5;241;43m.\u001b[39;49m\u001b[43madd\u001b[49m\u001b[43m(\u001b[49m\u001b[43mkey\u001b[49m\u001b[43m,\u001b[49m\u001b[43m \u001b[49m\u001b[43mvector\u001b[49m\u001b[43m,\u001b[49m\u001b[43m \u001b[49m\u001b[43mmetadata\u001b[49m\u001b[43m)\u001b[49m\n",
      "File \u001b[0;32m~/Library/Caches/pypoetry/virtualenvs/aiondata-mTfynZ7s-py3.12/lib/python3.12/site-packages/vectorizedb/__init__.py:69\u001b[0m, in \u001b[0;36mDatabase.add\u001b[0;34m(self, key, vector, metadata)\u001b[0m\n\u001b[1;32m     57\u001b[0m \u001b[38;5;250m\u001b[39m\u001b[38;5;124;03m\"\"\"\u001b[39;00m\n\u001b[1;32m     58\u001b[0m \u001b[38;5;124;03mAdd a vector to the database with the specified key.\u001b[39;00m\n\u001b[1;32m     59\u001b[0m \n\u001b[0;32m   (...)\u001b[0m\n\u001b[1;32m     66\u001b[0m \u001b[38;5;124;03m    None\u001b[39;00m\n\u001b[1;32m     67\u001b[0m \u001b[38;5;124;03m\"\"\"\u001b[39;00m\n\u001b[1;32m     68\u001b[0m \u001b[38;5;28;01mif\u001b[39;00m vector\u001b[38;5;241m.\u001b[39mdtype \u001b[38;5;241m!=\u001b[39m np\u001b[38;5;241m.\u001b[39mfloat32:\n\u001b[0;32m---> 69\u001b[0m     \u001b[38;5;28;01mraise\u001b[39;00m \u001b[38;5;167;01mValueError\u001b[39;00m(\u001b[38;5;124m\"\u001b[39m\u001b[38;5;124mVector must be of type np.float32\u001b[39m\u001b[38;5;124m\"\u001b[39m)\n\u001b[1;32m     70\u001b[0m \u001b[38;5;28;01mif\u001b[39;00m \u001b[38;5;28mlen\u001b[39m(vector\u001b[38;5;241m.\u001b[39mshape) \u001b[38;5;241m!=\u001b[39m \u001b[38;5;241m1\u001b[39m:\n\u001b[1;32m     71\u001b[0m     \u001b[38;5;28;01mraise\u001b[39;00m \u001b[38;5;167;01mValueError\u001b[39;00m(\u001b[38;5;124m\"\u001b[39m\u001b[38;5;124mVector must be 1D\u001b[39m\u001b[38;5;124m\"\u001b[39m)\n",
      "\u001b[0;31mValueError\u001b[0m: Vector must be of type np.float32"
     ]
    }
   ],
   "source": [
    "# Save the model\n",
    "model_save_path = aiondata_path / \"models\"\n",
    "model_save_path.mkdir(parents=True, exist_ok=True)\n",
    "joblib.dump(model, model_save_path / \"binding_affinity.joblib\")\n",
    "\n",
    "# Save the embeddings\n",
    "embeddings_save_path = aiondata_path / \"embeddings\"\n",
    "embeddings_save_path.mkdir(parents=True, exist_ok=True)\n",
    "ligands_db = Database(embeddings_save_path / \"ligands\", dim=ligand_dim)\n",
    "proteins_db = Database(embeddings_save_path / \"proteins\", dim=protein_dim)\n",
    "for key, value in ligand_embedding_cache.items():\n",
    "    ligands_db[key] = value\n",
    "for key, value in protein_embedding_cache.items():\n",
    "    proteins_db[key] = value"
   ]
  }
 ],
 "metadata": {
  "kernelspec": {
   "display_name": "aiondata-mTfynZ7s-py3.12",
   "language": "python",
   "name": "python3"
  },
  "language_info": {
   "codemirror_mode": {
    "name": "ipython",
    "version": 3
   },
   "file_extension": ".py",
   "mimetype": "text/x-python",
   "name": "python",
   "nbconvert_exporter": "python",
   "pygments_lexer": "ipython3",
   "version": "3.12.4"
  }
 },
 "nbformat": 4,
 "nbformat_minor": 2
}
