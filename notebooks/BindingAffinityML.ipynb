{
 "cells": [
  {
   "cell_type": "markdown",
   "metadata": {},
   "source": [
    "# Machine Learning Model for Binding Affinity using BindingDB\n"
   ]
  },
  {
   "cell_type": "markdown",
   "metadata": {},
   "source": [
    "#### Install dependencies and import modules"
   ]
  },
  {
   "cell_type": "code",
   "execution_count": 1,
   "metadata": {},
   "outputs": [],
   "source": [
    "# Install dependencies\n",
    "!pip install -q torch fair-esm transformers aiondata vectorizedb &> /dev/null\n",
    "\n",
    "# Standard library imports\n",
    "import os\n",
    "from pathlib import Path\n",
    "\n",
    "# Third-party imports for numerical operations and machine learning\n",
    "import joblib\n",
    "import numpy as np\n",
    "import torch\n",
    "from sklearn.ensemble import RandomForestClassifier\n",
    "from sklearn.metrics import roc_auc_score\n",
    "from sklearn.model_selection import train_test_split\n",
    "from tqdm.auto import tqdm\n",
    "from vectorizedb import Database\n",
    "\n",
    "# Third-party imports for deep learning and specific models\n",
    "from transformers import AutoTokenizer, AutoModel\n",
    "\n",
    "# Imports from specific libraries used in cheminformatics and bioinformatics\n",
    "from rdkit import RDLogger\n",
    "import esm\n",
    "from aiondata import BindingAffinity\n",
    "\n",
    "aiondata_path = Path(os.environ.get(\"AIONDATA_CACHE\", \"~/.aiondata\")).expanduser()\n",
    "ligand_dim = 768\n",
    "protein_dim = 480\n",
    "\n",
    "# Only test on n examples, set to None to test on all examples\n",
    "test_only_n_examples = 1000"
   ]
  },
  {
   "cell_type": "markdown",
   "metadata": {},
   "source": [
    "#### Load previously saved model and data"
   ]
  },
  {
   "cell_type": "code",
   "execution_count": 2,
   "metadata": {},
   "outputs": [],
   "source": [
    "# Load the pre-trained model\n",
    "try:\n",
    "    model = joblib.load(aiondata_path / \"models\" / \"binding_affinity.joblib\")\n",
    "except FileNotFoundError:\n",
    "    print(\"Model not found. Please train the model first.\")\n",
    "\n",
    "# Load embeddings\n",
    "try: \n",
    "    protein_db = Database(aiondata_path / \"embeddings\" / \"ligands\", dim=protein_dim)\n",
    "    ligand_db = Database(aiondata_path / \"embeddings\" / \"proteins\", dim=ligand_dim)\n",
    "except FileNotFoundError:\n",
    "    print(\"Embeddings not found. Please generate embeddings first.\")\n",
    "\n"
   ]
  },
  {
   "cell_type": "markdown",
   "metadata": {},
   "source": [
    "#### Load BindingAffinity and prepare for machine learning"
   ]
  },
  {
   "cell_type": "code",
   "execution_count": 3,
   "metadata": {},
   "outputs": [],
   "source": [
    "\n",
    "# Load BindingDB into a Polars DataFrame\n",
    "df = BindingAffinity().to_df()\n",
    "\n",
    "# Filter out rows with missing SMILES, Sequence, or Binds values\n",
    "df = df.drop_nulls(subset=[\"SMILES\", \"Sequence\", \"Binds\"])\n",
    "\n",
    "# For test purposes only use a subset of the data\n",
    "if test_only_n_examples:\n",
    "    df = df.sample(n=test_only_n_examples, shuffle=True, seed=18)\n",
    "\n",
    "# Get the SMILES, Sequence, and Binds columns\n",
    "ligands = df[\"SMILES\"]\n",
    "target_sequence = df[\"Sequence\"]\n",
    "affinity = df[\"Binds\"]\n",
    "\n",
    "# Suppress RDKit warnings and errors\n",
    "RDLogger.DisableLog(\"rdApp.*\")  "
   ]
  },
  {
   "cell_type": "markdown",
   "metadata": {},
   "source": [
    "#### Create Protein Embeddings using ESM"
   ]
  },
  {
   "cell_type": "code",
   "execution_count": 4,
   "metadata": {},
   "outputs": [
    {
     "data": {
      "application/vnd.jupyter.widget-view+json": {
       "model_id": "978c21cb33a344b68204d3cf1cc91728",
       "version_major": 2,
       "version_minor": 0
      },
      "text/plain": [
       "Generating protein embeddings:   0%|          | 0/1000 [00:00<?, ? proteins/s]"
      ]
     },
     "metadata": {},
     "output_type": "display_data"
    }
   ],
   "source": [
    "# Load ESM-35m model\n",
    "model, alphabet = esm.pretrained.esm2_t12_35M_UR50D()\n",
    "\n",
    "# Prepare model and move it to evaluation mode\n",
    "model = model.eval()\n",
    "if torch.cuda.is_available():\n",
    "    model = model.cuda()\n",
    "\n",
    "def create_protein_embedding(sequence: str):\n",
    "    \"\"\"Generate embeddings for a single protein sequence using a cache to store previous computations.\"\"\"\n",
    "    \n",
    "    # Check if the embedding is in the database\n",
    "    try:\n",
    "        vec, _ = protein_db[sequence]\n",
    "        return vec\n",
    "    except KeyError:\n",
    "        pass\n",
    "\n",
    "    # Convert sequence to tokens\n",
    "    tokens = torch.tensor([alphabet.encode(sequence)])\n",
    "    if torch.cuda.is_available():\n",
    "        tokens = tokens.cuda()\n",
    "\n",
    "    with torch.no_grad():\n",
    "        results = model(tokens, repr_layers=[12])  # Extract embeddings from the last layer\n",
    "\n",
    "    # Extract embeddings and move to cpu\n",
    "    embeddings_full = results[\"representations\"][12].squeeze(0).cpu()\n",
    "\n",
    "    # Reduce the embeddings to 1D by averaging across the sequence length\n",
    "    embedding = embeddings_full.mean(dim=0).numpy()\n",
    "\n",
    "    # Store in database\n",
    "    protein_db[sequence] = embedding\n",
    "    \n",
    "    return embedding\n",
    "\n",
    "def create_embedding_generator(sequences: list[str]):\n",
    "    \"\"\"Generate embeddings for a list of protein sequences.\"\"\"\n",
    "    for sequence in tqdm(sequences, desc=\"Generating protein embeddings\", unit=\" proteins\"):\n",
    "        yield create_protein_embedding(sequence)\n",
    "\n",
    "# Generate embeddings for all protein sequences\n",
    "X_proteins = list(create_embedding_generator(target_sequence))\n"
   ]
  },
  {
   "cell_type": "markdown",
   "metadata": {},
   "source": [
    "#### Create Ligand Embeddings using ChemBERTa"
   ]
  },
  {
   "cell_type": "code",
   "execution_count": 5,
   "metadata": {},
   "outputs": [
    {
     "data": {
      "application/vnd.jupyter.widget-view+json": {
       "model_id": "f2422f6e642f4f588b9b85eb93138c0c",
       "version_major": 2,
       "version_minor": 0
      },
      "text/plain": [
       "Generating ligand embeddings:   0%|          | 0/1000 [00:00<?, ? ligand/s]"
      ]
     },
     "metadata": {},
     "output_type": "display_data"
    }
   ],
   "source": [
    "# Load ChemBERTa model and tokenizer\n",
    "chemberta_tokenizer = AutoTokenizer.from_pretrained(\"seyonec/ChemBERTa-zinc-base-v1\")\n",
    "chemberta_model = AutoModel.from_pretrained(\"seyonec/ChemBERTa-zinc-base-v1\")\n",
    "chemberta_model.eval()\n",
    "\n",
    "def create_ligand_embedding(smiles: str):\n",
    "    \"\"\"Generate embeddings for a single SMILES string using a cache to store previous computations.\"\"\"\n",
    "     \n",
    "    # Check if the embedding is in the database\n",
    "    try:\n",
    "        vec, _ = ligand_db[smiles]\n",
    "        return vec\n",
    "    except KeyError:\n",
    "        pass\n",
    "    \n",
    "    # Truncate SMILES string to 512 characters, required by ChemBERTa\n",
    "    if len(smiles) > 512:\n",
    "        smiles = smiles[:512]\n",
    "    \n",
    "    inputs = chemberta_tokenizer(smiles, return_tensors=\"pt\")\n",
    "    \n",
    "    with torch.no_grad():\n",
    "        outputs = chemberta_model(**inputs)\n",
    "    \n",
    "    # Take the mean of the last hidden state to get a single vector representation\n",
    "    embedding = outputs.last_hidden_state.mean(dim=1).squeeze(0).numpy()\n",
    "    \n",
    "    # Store in database\n",
    "    ligand_db[smiles] = embedding\n",
    "    \n",
    "    return embedding\n",
    "\n",
    "def create_embedding_generator(smiles: list[str]):\n",
    "    \"\"\"Generate embeddings for a list of SMILES strings.\"\"\"\n",
    "    for smile in tqdm(smiles, desc=\"Generating ligand embeddings\", unit=\" ligand\"):\n",
    "        yield create_ligand_embedding(smile)\n",
    "\n",
    "# Generate embeddings for all ligands\n",
    "X_ligands = list(create_embedding_generator(ligands))\n"
   ]
  },
  {
   "cell_type": "markdown",
   "metadata": {},
   "source": [
    "#### Create the model and predict binding values"
   ]
  },
  {
   "cell_type": "code",
   "execution_count": 8,
   "metadata": {},
   "outputs": [
    {
     "name": "stdout",
     "output_type": "stream",
     "text": [
      "ROC-AUC score: 0.7331\n"
     ]
    }
   ],
   "source": [
    "def train_new_model():\n",
    "    X = np.concatenate([X_ligands, X_proteins], axis=1)\n",
    "\n",
    "    # Make affinity into a numpy y array\n",
    "    y = affinity.to_numpy()\n",
    "    X_train, X_test, y_train, y_test = train_test_split(X, y, test_size=0.2, random_state=18)\n",
    "\n",
    "    # Train a new Random Forest model\n",
    "    model = RandomForestClassifier(n_estimators=100, random_state=18)\n",
    "    model.fit(X_train, y_train)\n",
    "\n",
    "if not model:\n",
    "    print(\"Model not found. Training a new model.\")\n",
    "    train_new_model()\n",
    "\n",
    "# Evaluate the model ROC-AUC score\n",
    "y_pred = model.predict_proba(X_test)[:, 1]\n",
    "roc_auc = roc_auc_score(y_test, y_pred)\n",
    "\n",
    "print(f\"ROC-AUC score: {roc_auc:.4f}\")"
   ]
  },
  {
   "cell_type": "markdown",
   "metadata": {},
   "source": [
    "#### Save the model and embeddings\n"
   ]
  },
  {
   "cell_type": "code",
   "execution_count": 7,
   "metadata": {},
   "outputs": [],
   "source": [
    "# Save the model\n",
    "model_save_path = aiondata_path / \"models\"\n",
    "model_save_path.mkdir(parents=True, exist_ok=True)\n",
    "joblib.dump(model, model_save_path / \"binding_affinity.joblib\")\n",
    "\n",
    "# Close the embeddings\n",
    "ligand_db.close()\n",
    "protein_db.close()"
   ]
  }
 ],
 "metadata": {
  "kernelspec": {
   "display_name": "aiondata-mTfynZ7s-py3.12",
   "language": "python",
   "name": "python3"
  },
  "language_info": {
   "codemirror_mode": {
    "name": "ipython",
    "version": 3
   },
   "file_extension": ".py",
   "mimetype": "text/x-python",
   "name": "python",
   "nbconvert_exporter": "python",
   "pygments_lexer": "ipython3",
   "version": "3.12.4"
  }
 },
 "nbformat": 4,
 "nbformat_minor": 2
}
