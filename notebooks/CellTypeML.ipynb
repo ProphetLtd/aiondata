{
 "cells": [
  {
   "cell_type": "markdown",
   "metadata": {},
   "source": [
    "# Machine Learning Model for Cell Type Classification using Weizmann C3A Dataset\n",
    "\n",
    "This notebook presents a reference machine learning model designed for the classification of cell types based on the Weizmann C3A dataset using walking through data loading, preprocessing, model training with a RandomForestClassifier, and performance evaluation using ROC AUC scores."
   ]
  },
  {
   "cell_type": "code",
   "execution_count": 1,
   "metadata": {},
   "outputs": [
    {
     "data": {
      "text/html": [
       "<div><style>\n",
       ".dataframe > thead > tr,\n",
       ".dataframe > tbody > tr {\n",
       "  text-align: right;\n",
       "  white-space: pre-wrap;\n",
       "}\n",
       "</style>\n",
       "<small>shape: (9, 2)</small><table border=\"1\" class=\"dataframe\"><thead><tr><th>cell_type</th><th>count</th></tr><tr><td>str</td><td>u32</td></tr></thead><tbody><tr><td>&quot;Macrophage&quot;</td><td>98</td></tr><tr><td>&quot;B_cell&quot;</td><td>138</td></tr><tr><td>&quot;Mast&quot;</td><td>120</td></tr><tr><td>&quot;Malignant&quot;</td><td>2539</td></tr><tr><td>&quot;Myocyte&quot;</td><td>19</td></tr><tr><td>&quot;Fibroblast&quot;</td><td>1440</td></tr><tr><td>&quot;Endothelial&quot;</td><td>260</td></tr><tr><td>&quot;T_cell&quot;</td><td>1237</td></tr><tr><td>&quot;Dendritic&quot;</td><td>51</td></tr></tbody></table></div>"
      ],
      "text/plain": [
       "shape: (9, 2)\n",
       "┌─────────────┬───────┐\n",
       "│ cell_type   ┆ count │\n",
       "│ ---         ┆ ---   │\n",
       "│ str         ┆ u32   │\n",
       "╞═════════════╪═══════╡\n",
       "│ Macrophage  ┆ 98    │\n",
       "│ B_cell      ┆ 138   │\n",
       "│ Mast        ┆ 120   │\n",
       "│ Malignant   ┆ 2539  │\n",
       "│ Myocyte     ┆ 19    │\n",
       "│ Fibroblast  ┆ 1440  │\n",
       "│ Endothelial ┆ 260   │\n",
       "│ T_cell      ┆ 1237  │\n",
       "│ Dendritic   ┆ 51    │\n",
       "└─────────────┴───────┘"
      ]
     },
     "execution_count": 1,
     "metadata": {},
     "output_type": "execute_result"
    }
   ],
   "source": [
    "from aiondata import Weizmann3CA\n",
    "from sklearn.ensemble import RandomForestClassifier\n",
    "from sklearn.model_selection import train_test_split\n",
    "from sklearn.metrics import roc_auc_score\n",
    "\n",
    "# Load Puram et al. 2017 data\n",
    "cells, _, _, exp_data = Weizmann3CA()[\"Puram et al. 2017\"]\n",
    "X = exp_data.T\n",
    "y = cells[\"cell_type\"].to_list()\n",
    "cells[\"cell_type\"].value_counts()\n"
   ]
  },
  {
   "cell_type": "code",
   "execution_count": 2,
   "metadata": {},
   "outputs": [
    {
     "name": "stdout",
     "output_type": "stream",
     "text": [
      "AUC: 1.00\n"
     ]
    }
   ],
   "source": [
    "X_train, X_test, y_train, y_test = train_test_split(X, y, test_size=0.2, random_state=18)\n",
    "\n",
    "classifier = RandomForestClassifier(random_state=18)\n",
    "classifier.fit(X_train, y_train)\n",
    "\n",
    "y_pred_proba = classifier.predict_proba(X_test)\n",
    "\n",
    "auc = roc_auc_score(y_test, y_pred_proba, multi_class=\"ovo\", average=\"macro\")\n",
    "\n",
    "print(f\"AUC: {auc:.2f}\")"
   ]
  }
 ],
 "metadata": {
  "kernelspec": {
   "display_name": "aiondata-mTfynZ7s-py3.12",
   "language": "python",
   "name": "python3"
  },
  "language_info": {
   "codemirror_mode": {
    "name": "ipython",
    "version": 3
   },
   "file_extension": ".py",
   "mimetype": "text/x-python",
   "name": "python",
   "nbconvert_exporter": "python",
   "pygments_lexer": "ipython3",
   "version": "3.12.2"
  }
 },
 "nbformat": 4,
 "nbformat_minor": 2
}
