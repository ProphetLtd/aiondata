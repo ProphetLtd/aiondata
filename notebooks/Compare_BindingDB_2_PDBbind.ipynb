{
 "cells": [
  {
   "cell_type": "code",
   "execution_count": 6,
   "metadata": {},
   "outputs": [
    {
     "name": "stdout",
     "output_type": "stream",
     "text": [
      "Downloaded PDBbind_v2020_plain_text_index.tar.gz\n",
      "Extracted to ../data/PDBbind\n",
      "Extracted files: ['readme', 'index']\n"
     ]
    }
   ],
   "source": [
    "import os\n",
    "import requests\n",
    "import tarfile\n",
    "\n",
    "# Define the URL and the output file name\n",
    "url = \"http://www.pdbbind.org.cn/download/PDBbind_v2020_plain_text_index.tar.gz\"\n",
    "file_name = \"PDBbind_v2020_plain_text_index.tar.gz\"\n",
    "extract_path = \"../data/PDBbind\"\n",
    "\n",
    "# Create the extraction directory if it doesn't exist\n",
    "os.makedirs(extract_path, exist_ok=True)\n",
    "\n",
    "# Download the file\n",
    "response = requests.get(url, stream=True)\n",
    "download_path = os.path.join(extract_path, file_name)\n",
    "with open(download_path, 'wb') as file:\n",
    "    for chunk in response.iter_content(chunk_size=1024):\n",
    "        if chunk:\n",
    "            file.write(chunk)\n",
    "\n",
    "print(f\"Downloaded {file_name}\")\n",
    "\n",
    "# Extract the tar.gz file\n",
    "with tarfile.open(file_name, \"r:gz\") as tar:\n",
    "    tar.extractall(path=extract_path)\n",
    "\n",
    "print(f\"Extracted to {extract_path}\")\n",
    "\n",
    "# List the contents of the extracted folder\n",
    "extracted_files = os.listdir(extract_path)\n",
    "print(\"Extracted files:\", extracted_files)\n"
   ]
  },
  {
   "cell_type": "code",
   "execution_count": 26,
   "metadata": {},
   "outputs": [],
   "source": [
    "# Extract the PDB list from the general PL index\n",
    "!cat ../data/PDBbind/index/INDEX_general_PL.2020 | tail -n +7 | tr \"  \" \"\\t\"| cut -f1 > ../data/PDBbind/index/INDEX_general_PL.PDBlist.2020\n",
    "#read the PDB list\n",
    "with open(\"../data/PDBbind/index/INDEX_general_PL.PDBlist.2020\", \"r\") as file:\n",
    "    pdbbind_list = file.read().splitlines()\n",
    "pdbbind_list = [pdb.upper() for pdb in pdbbind_list]"
   ]
  },
  {
   "cell_type": "code",
   "execution_count": 30,
   "metadata": {},
   "outputs": [],
   "source": [
    "#read data/expanded_bindingdb.csv\n",
    "import pandas as pd\n",
    "bindingdb = pd.read_csv(\"../data/expanded_bindingdb.csv\")\n",
    "bindingdb_list = bindingdb[\"PDB ID\"].tolist()\n",
    "bindingdb_list = [pdb.upper() for pdb in bindingdb_list]\n",
    "bindingdb_list = list(set(bindingdb_list))\n"
   ]
  },
  {
   "cell_type": "code",
   "execution_count": 32,
   "metadata": {},
   "outputs": [
    {
     "name": "stdout",
     "output_type": "stream",
     "text": [
      "PDBbind list size: 19443\n",
      "BindingDB list size: 26617\n",
      "Intersection size: 5933\n"
     ]
    }
   ],
   "source": [
    "#print the size of the two lists\n",
    "# compare bindingdb_list and pdbbind_list\n",
    "print(\"PDBbind list size:\", len(pdbbind_list))\n",
    "print(\"BindingDB list size:\", len(bindingdb_list))\n",
    "\n",
    "# Find the intersection between the two lists\n",
    "intersection = set(pdbbind_list).intersection(bindingdb_list)\n",
    "print(\"Intersection size:\", len(intersection))\n"
   ]
  }
 ],
 "metadata": {
  "kernelspec": {
   "display_name": "Python 3",
   "language": "python",
   "name": "python3"
  },
  "language_info": {
   "codemirror_mode": {
    "name": "ipython",
    "version": 3
   },
   "file_extension": ".py",
   "mimetype": "text/x-python",
   "name": "python",
   "nbconvert_exporter": "python",
   "pygments_lexer": "ipython3",
   "version": "3.11.5"
  }
 },
 "nbformat": 4,
 "nbformat_minor": 2
}
