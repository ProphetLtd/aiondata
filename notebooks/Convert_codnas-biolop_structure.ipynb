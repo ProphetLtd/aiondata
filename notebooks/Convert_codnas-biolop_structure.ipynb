{
 "cells": [
  {
   "cell_type": "code",
   "execution_count": 7,
   "metadata": {},
   "outputs": [],
   "source": [
    "import pandas as pd\n",
    "import requests\n",
    "\n",
    "\n",
    "codnas=pd.read_csv(\"../data/download_codnas_biolip_full.tsv\", sep=\"\\t\", engine='python')\n",
    "codnas\n"
   ]
  },
  {
   "cell_type": "code",
   "execution_count": 13,
   "metadata": {},
   "outputs": [
    {
     "name": "stderr",
     "output_type": "stream",
     "text": [
      "/var/folders/98/hv8x634d1fg2b1_0kpth665h0000gn/T/ipykernel_19683/1411366118.py:2: DeprecationWarning: DataFrameGroupBy.apply operated on the grouping columns. This behavior is deprecated, and in a future version of pandas the grouping columns will be excluded from the operation. Either pass `include_groups=False` to exclude the groupings or explicitly select the grouping columns after groupby to silence this warning.\n",
      "  pdb_ids = codnas.groupby('Pool_repr').apply(lambda x: list(set(x['PDB_1'].tolist() + x['PDB_2'].tolist()))).reset_index()\n"
     ]
    },
    {
     "data": {
      "text/html": [
       "<div>\n",
       "<style scoped>\n",
       "    .dataframe tbody tr th:only-of-type {\n",
       "        vertical-align: middle;\n",
       "    }\n",
       "\n",
       "    .dataframe tbody tr th {\n",
       "        vertical-align: top;\n",
       "    }\n",
       "\n",
       "    .dataframe thead th {\n",
       "        text-align: right;\n",
       "    }\n",
       "</style>\n",
       "<table border=\"1\" class=\"dataframe\">\n",
       "  <thead>\n",
       "    <tr style=\"text-align: right;\">\n",
       "      <th></th>\n",
       "      <th>Pool_repr</th>\n",
       "      <th>0</th>\n",
       "      <th>PDB_ID</th>\n",
       "    </tr>\n",
       "  </thead>\n",
       "  <tbody>\n",
       "    <tr>\n",
       "      <th>0</th>\n",
       "      <td>1AAT_A</td>\n",
       "      <td>[2CST_A, 1AAT_B, 2CST_B, 1AAT_A]</td>\n",
       "      <td>1AAT</td>\n",
       "    </tr>\n",
       "    <tr>\n",
       "      <th>1</th>\n",
       "      <td>1AUO_A</td>\n",
       "      <td>[1AUR_A, 1AUO_A, 1AUR_B, 1AUO_B]</td>\n",
       "      <td>1AUO</td>\n",
       "    </tr>\n",
       "    <tr>\n",
       "      <th>2</th>\n",
       "      <td>1BCP_D</td>\n",
       "      <td>[1BCP_E, 1PTO_K, 1PTO_E, 1PRT_D, 1BCP_D, 1BCP_...</td>\n",
       "      <td>1BCP</td>\n",
       "    </tr>\n",
       "    <tr>\n",
       "      <th>3</th>\n",
       "      <td>1BH8_B</td>\n",
       "      <td>[1BH9_B, 1BH8_B]</td>\n",
       "      <td>1BH8</td>\n",
       "    </tr>\n",
       "    <tr>\n",
       "      <th>4</th>\n",
       "      <td>1BZF_A</td>\n",
       "      <td>[1LUD-11_A, 2HQP-5_A, 1AO8-18_A, 2HM9-4_A, 1DI...</td>\n",
       "      <td>1BZF</td>\n",
       "    </tr>\n",
       "    <tr>\n",
       "      <th>...</th>\n",
       "      <td>...</td>\n",
       "      <td>...</td>\n",
       "      <td>...</td>\n",
       "    </tr>\n",
       "    <tr>\n",
       "      <th>208</th>\n",
       "      <td>6V4T_A</td>\n",
       "      <td>[6E8W-4_A, 6E8W-15_B, 6V4T-3_A, 6E8W-8_B, 6V4T...</td>\n",
       "      <td>6V4T</td>\n",
       "    </tr>\n",
       "    <tr>\n",
       "      <th>209</th>\n",
       "      <td>6W70_A</td>\n",
       "      <td>[6W70_C, 6W6X_B, 6X8N_B, 6W6X_A, 6W70_A, 6X8N_A]</td>\n",
       "      <td>6W70</td>\n",
       "    </tr>\n",
       "    <tr>\n",
       "      <th>210</th>\n",
       "      <td>6XTG_L</td>\n",
       "      <td>[6XUD_L, 6XTG_L]</td>\n",
       "      <td>6XTG</td>\n",
       "    </tr>\n",
       "    <tr>\n",
       "      <th>211</th>\n",
       "      <td>6YAN_f</td>\n",
       "      <td>[6YAL_f, 6ZVH_f, 6YAN_f]</td>\n",
       "      <td>6YAN</td>\n",
       "    </tr>\n",
       "    <tr>\n",
       "      <th>212</th>\n",
       "      <td>7A1G_N</td>\n",
       "      <td>[6WDR_f, 7A1G_N]</td>\n",
       "      <td>7A1G</td>\n",
       "    </tr>\n",
       "  </tbody>\n",
       "</table>\n",
       "<p>213 rows × 3 columns</p>\n",
       "</div>"
      ],
      "text/plain": [
       "    Pool_repr                                                  0 PDB_ID\n",
       "0      1AAT_A                   [2CST_A, 1AAT_B, 2CST_B, 1AAT_A]   1AAT\n",
       "1      1AUO_A                   [1AUR_A, 1AUO_A, 1AUR_B, 1AUO_B]   1AUO\n",
       "2      1BCP_D  [1BCP_E, 1PTO_K, 1PTO_E, 1PRT_D, 1BCP_D, 1BCP_...   1BCP\n",
       "3      1BH8_B                                   [1BH9_B, 1BH8_B]   1BH8\n",
       "4      1BZF_A  [1LUD-11_A, 2HQP-5_A, 1AO8-18_A, 2HM9-4_A, 1DI...   1BZF\n",
       "..        ...                                                ...    ...\n",
       "208    6V4T_A  [6E8W-4_A, 6E8W-15_B, 6V4T-3_A, 6E8W-8_B, 6V4T...   6V4T\n",
       "209    6W70_A   [6W70_C, 6W6X_B, 6X8N_B, 6W6X_A, 6W70_A, 6X8N_A]   6W70\n",
       "210    6XTG_L                                   [6XUD_L, 6XTG_L]   6XTG\n",
       "211    6YAN_f                           [6YAL_f, 6ZVH_f, 6YAN_f]   6YAN\n",
       "212    7A1G_N                                   [6WDR_f, 7A1G_N]   7A1G\n",
       "\n",
       "[213 rows x 3 columns]"
      ]
     },
     "execution_count": 13,
     "metadata": {},
     "output_type": "execute_result"
    }
   ],
   "source": [
    "#create a single list of unique pdb ids grouped from PDB_1 and PDB_2 columns based on the same value in Pool_repr column\n",
    "pdb_ids = codnas.groupby('Pool_repr').apply(lambda x: list(set(x['PDB_1'].tolist() + x['PDB_2'].tolist()))).reset_index()\n",
    "\n",
    "#add column that removes the _* from the Pool_repr column\n",
    "pdb_ids['PDB_ID'] = pdb_ids['Pool_repr'].apply(lambda x: x.split('_')[0])\n",
    "\n",
    "pdb_ids"
   ]
  },
  {
   "cell_type": "code",
   "execution_count": 15,
   "metadata": {},
   "outputs": [
    {
     "name": "stdout",
     "output_type": "stream",
     "text": [
      "P00504\n"
     ]
    }
   ],
   "source": [
    "def fetch_pdb_data(pdb_id):\n",
    "    url = \"https://data.rcsb.org/graphql\"\n",
    "\n",
    "    query = \"\"\"\n",
    "    {\n",
    "      entries(entry_ids:[\"%s\"]){\n",
    "        polymer_entities {\n",
    "          rcsb_id\n",
    "          rcsb_polymer_entity_container_identifiers {\n",
    "            reference_sequence_identifiers {\n",
    "              database_accession\n",
    "              database_name\n",
    "            }\n",
    "          }\n",
    "        }\n",
    "      }\n",
    "    }\n",
    "    \"\"\" % pdb_id\n",
    "\n",
    "    response = requests.post(url, json={'query': query})\n",
    "\n",
    "    if response.status_code == 200:\n",
    "        data = response.json()\n",
    "        return data\n",
    "    else:\n",
    "        print(f\"Query failed with status code: {response.status_code}\")\n",
    "        print(response.text)\n",
    "        return None\n",
    "\n",
    "#write def to get the database_accession from result\n",
    "def get_uniprot_accession(pdb_id):\n",
    "    result = fetch_pdb_data(pdb_id)\n",
    "    if result:\n",
    "        try:\n",
    "            db_accession = result['data']['entries'][0]['polymer_entities'][0]['rcsb_polymer_entity_container_identifiers']['reference_sequence_identifiers'][0]['database_accession']\n",
    "            return db_accession\n",
    "        except Exception as e:\n",
    "            print(f\"Error: {e}\")\n",
    "            return None\n",
    "    else:\n",
    "        return None\n",
    "\n",
    "\n",
    "# Example usage:\n",
    "pdb_id = \"1AAT\"\n",
    "result = get_uniprot_accession(pdb_id)\n",
    "if result:\n",
    "    print(result)"
   ]
  },
  {
   "cell_type": "code",
   "execution_count": 16,
   "metadata": {},
   "outputs": [
    {
     "data": {
      "text/plain": [
       "'MAASIFAAVPRAPPVAVFKLTADFREDGDSRKVNLGVGAYRTDEGQPWVLPVVRKVEQLIAGDGSLNHEYLPILGLPEFRANASRIALGDDSPAIAQKRVGSVQGLGGTGALRIGAEFLRRWYNGNNNTATPVYVSSPTWENHNSVFMDAGFKDIRTYRYWDAAKRGLDLQGLLDDMEKAPEFSIFILHACAHNPTGTDPTPDEWKQIAAVMKRRCLFPFFDSAYQGFASGSLDKDAWAVRYFVSEGFELFCAQSFSKNFGLYNERVGNLSVVGKDEDNVQRVLSQMEKIVRTTWSNPPSQGARIVATTLTSPQLFAEWKDNVKTMADRVLLMRSELRSRLESLGTPGTWNHITDQIGMFSFTGLNPKQVEYMIKEKHIYLMASGRINMCGLTTKNLDYVAKSIHEAVTKIQ'"
      ]
     },
     "execution_count": 16,
     "metadata": {},
     "output_type": "execute_result"
    }
   ],
   "source": [
    "\n",
    "def fetch_uniprot_sequence(uniprot_id):\n",
    "    url = f\"https://rest.uniprot.org/uniprotkb/{uniprot_id}.fasta\"\n",
    "    \n",
    "    response = requests.get(url)\n",
    "    \n",
    "    if response.status_code == 200:\n",
    "        # Split the response text into lines\n",
    "        lines = response.text.split('\\n')\n",
    "        \n",
    "        # The first line is the header, we'll skip it\n",
    "        sequence = ''.join(lines[1:])\n",
    "        \n",
    "        return sequence.strip()\n",
    "    else:\n",
    "        print(f\"Failed to fetch sequence. Status code: {response.status_code}\")\n",
    "        print(response.text)\n",
    "        return None\n",
    "\n",
    "# Example usage\n",
    "sequence = fetch_uniprot_sequence(\"P00504\")\n",
    "sequence"
   ]
  },
  {
   "cell_type": "code",
   "execution_count": null,
   "metadata": {},
   "outputs": [],
   "source": [
    "#add column to pdb_ids with uniprot accession using the get_uniprot_accession function\n",
    "pdb_ids['uniprot_accession'] = pdb_ids['PDB_ID'].apply(get_uniprot_accession)\n",
    "\n",
    "#add column to pdb_ids with uniprot accession using the get_uniprot_accession function\n",
    "pdb_ids['sequence'] = pdb_ids['uniprot_accession'].apply(fetch_uniprot_sequence)\n",
    "\n"
   ]
  },
  {
   "cell_type": "code",
   "execution_count": 21,
   "metadata": {},
   "outputs": [],
   "source": [
    "#export to csv\n",
    "pdb_ids.to_csv(\"../data/codnas_dataset.csv\", index=False)"
   ]
  }
 ],
 "metadata": {
  "kernelspec": {
   "display_name": "Python 3",
   "language": "python",
   "name": "python3"
  },
  "language_info": {
   "codemirror_mode": {
    "name": "ipython",
    "version": 3
   },
   "file_extension": ".py",
   "mimetype": "text/x-python",
   "name": "python",
   "nbconvert_exporter": "python",
   "pygments_lexer": "ipython3",
   "version": "3.11.5"
  }
 },
 "nbformat": 4,
 "nbformat_minor": 2
}
