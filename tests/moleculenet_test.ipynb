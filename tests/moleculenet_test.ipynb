{
 "cells": [
  {
   "cell_type": "code",
   "execution_count": null,
   "metadata": {},
   "outputs": [],
   "source": [
    "import os\n",
    "os.chdir(\"..\")\n",
    "from aiondata.moleculenet import CodNas91\n",
    "CodNas91().to_df()"
   ]
  },
  {
   "cell_type": "code",
   "execution_count": 1,
   "metadata": {},
   "outputs": [],
   "source": [
    "import os\n",
    "os.chdir(\"..\")\n",
    "from aiondata.moleculenet import FoldswitchProteins\n"
   ]
  },
  {
   "cell_type": "code",
   "execution_count": 4,
   "metadata": {},
   "outputs": [
    {
     "data": {
      "text/html": [
       "<div><style>\n",
       ".dataframe > thead > tr,\n",
       ".dataframe > tbody > tr {\n",
       "  text-align: right;\n",
       "  white-space: pre-wrap;\n",
       "}\n",
       "</style>\n",
       "<small>shape: (93, 12)</small><table border=\"1\" class=\"dataframe\"><thead><tr><th>Fold1</th><th>Fold2</th><th>TM Model 1, Fold1</th><th>TM Model 2, Fold1</th><th>TM Model 3, Fold1</th><th>TM Model 4, Fold1</th><th>TM Model 5, Fold1</th><th>TM Model 1, Fold2</th><th>TM Model 2, Fold2</th><th>TM Model 3, Fold2</th><th>TM Model 4, Fold2</th><th>TM Model 5, Fold2</th></tr><tr><td>str</td><td>str</td><td>f64</td><td>f64</td><td>f64</td><td>f64</td><td>f64</td><td>f64</td><td>f64</td><td>f64</td><td>f64</td><td>f64</td></tr></thead><tbody><tr><td>&quot;5tpnA&quot;</td><td>&quot;1g2cF&quot;</td><td>0.93469</td><td>0.93454</td><td>0.64766</td><td>0.57834</td><td>0.56606</td><td>0.63753</td><td>0.62529</td><td>0.75281</td><td>0.74769</td><td>0.75747</td></tr><tr><td>&quot;1h38D&quot;</td><td>&quot;1qlnA&quot;</td><td>0.91682</td><td>0.91813</td><td>0.9157</td><td>0.91684</td><td>0.9206</td><td>0.72304</td><td>0.7223</td><td>0.72014</td><td>0.72237</td><td>0.72286</td></tr><tr><td>&quot;1k0nA&quot;</td><td>&quot;1rk4B&quot;</td><td>0.92488</td><td>0.92472</td><td>0.92268</td><td>0.92555</td><td>0.92359</td><td>0.70551</td><td>0.70524</td><td>0.70793</td><td>0.70723</td><td>0.70646</td></tr><tr><td>&quot;1mnmC&quot;</td><td>&quot;1mnmD&quot;</td><td>0.6478</td><td>0.64558</td><td>0.66662</td><td>0.66226</td><td>0.65584</td><td>0.63264</td><td>0.63141</td><td>0.64163</td><td>0.64513</td><td>0.63569</td></tr><tr><td>&quot;1nqdA&quot;</td><td>&quot;1nqjB&quot;</td><td>0.89098</td><td>0.89118</td><td>0.88859</td><td>0.88941</td><td>0.88957</td><td>0.82255</td><td>0.82225</td><td>0.81909</td><td>0.81955</td><td>0.81855</td></tr><tr><td>&quot;1qomB&quot;</td><td>&quot;1nocA&quot;</td><td>0.94941</td><td>0.9495</td><td>0.94716</td><td>0.94709</td><td>0.94772</td><td>0.84574</td><td>0.84572</td><td>0.84001</td><td>0.84105</td><td>0.84197</td></tr><tr><td>&quot;1qs8B&quot;</td><td>&quot;1miqB&quot;</td><td>0.97393</td><td>0.97659</td><td>0.97218</td><td>0.96713</td><td>0.97026</td><td>0.9756</td><td>0.97649</td><td>0.91976</td><td>0.93538</td><td>0.9328</td></tr><tr><td>&quot;1repC&quot;</td><td>&quot;2z9oB&quot;</td><td>0.83899</td><td>0.83671</td><td>0.83565</td><td>0.8368</td><td>0.83753</td><td>0.50806</td><td>0.50844</td><td>0.5241</td><td>0.51682</td><td>0.52434</td></tr><tr><td>&quot;1uxmK&quot;</td><td>&quot;2namA&quot;</td><td>0.991</td><td>0.99086</td><td>0.99111</td><td>0.99095</td><td>0.98923</td><td>0.18562</td><td>0.18634</td><td>0.18857</td><td>0.18647</td><td>0.19007</td></tr><tr><td>&quot;1wyyB&quot;</td><td>&quot;5wrgC&quot;</td><td>0.55182</td><td>0.55743</td><td>0.77662</td><td>0.76762</td><td>0.77649</td><td>0.54577</td><td>0.53663</td><td>0.29455</td><td>0.29463</td><td>0.27433</td></tr><tr><td>&quot;1x0gA&quot;</td><td>&quot;1x0gD&quot;</td><td>0.85291</td><td>0.84279</td><td>0.85966</td><td>0.85628</td><td>0.85634</td><td>0.53045</td><td>0.529</td><td>0.53466</td><td>0.53236</td><td>0.53252</td></tr><tr><td>&quot;1xjtA&quot;</td><td>&quot;1xjuB&quot;</td><td>0.86914</td><td>0.86937</td><td>0.87032</td><td>0.86921</td><td>0.8704</td><td>0.78684</td><td>0.77597</td><td>0.76641</td><td>0.78537</td><td>0.78932</td></tr><tr><td>&hellip;</td><td>&hellip;</td><td>&hellip;</td><td>&hellip;</td><td>&hellip;</td><td>&hellip;</td><td>&hellip;</td><td>&hellip;</td><td>&hellip;</td><td>&hellip;</td><td>&hellip;</td><td>&hellip;</td></tr><tr><td>&quot;2qqjA&quot;</td><td>&quot;4qdsA&quot;</td><td>0.95335</td><td>0.95353</td><td>0.95674</td><td>0.95702</td><td>0.95707</td><td>0.86058</td><td>0.86004</td><td>0.86384</td><td>0.86588</td><td>0.86668</td></tr><tr><td>&quot;4rmbB&quot;</td><td>&quot;4rmbA&quot;</td><td>0.8184</td><td>0.80819</td><td>0.78332</td><td>0.78285</td><td>0.79253</td><td>0.77379</td><td>0.76902</td><td>0.75996</td><td>0.75847</td><td>0.76099</td></tr><tr><td>&quot;3l9qB&quot;</td><td>&quot;4rr2D&quot;</td><td>0.75929</td><td>0.75857</td><td>0.75624</td><td>0.75564</td><td>0.75695</td><td>0.23297</td><td>0.22779</td><td>0.23258</td><td>0.22856</td><td>0.23147</td></tr><tr><td>&quot;4ydqB&quot;</td><td>&quot;4twaA&quot;</td><td>0.9557</td><td>0.95561</td><td>0.94716</td><td>0.947</td><td>0.94718</td><td>0.91118</td><td>0.91087</td><td>0.90563</td><td>0.90538</td><td>0.90505</td></tr><tr><td>&quot;1svfC&quot;</td><td>&quot;4wsgC&quot;</td><td>0.90593</td><td>0.87879</td><td>0.88493</td><td>0.91596</td><td>0.87729</td><td>0.93137</td><td>0.84498</td><td>0.64586</td><td>0.62081</td><td>0.66829</td></tr><tr><td>&quot;5bmyA&quot;</td><td>&quot;5b3zA&quot;</td><td>0.93803</td><td>0.93824</td><td>0.93626</td><td>0.93617</td><td>0.93715</td><td>0.91849</td><td>0.88575</td><td>0.92495</td><td>0.93722</td><td>0.92602</td></tr><tr><td>&quot;3zxgB&quot;</td><td>&quot;5ec5P&quot;</td><td>0.57104</td><td>0.55654</td><td>0.8189</td><td>0.83344</td><td>0.8291</td><td>0.54057</td><td>0.53974</td><td>0.52245</td><td>0.52016</td><td>0.52302</td></tr><tr><td>&quot;5f5rB&quot;</td><td>&quot;5f3kA&quot;</td><td>0.70584</td><td>0.70537</td><td>0.8812</td><td>0.87912</td><td>0.87537</td><td>0.67926</td><td>0.67905</td><td>0.69615</td><td>0.69624</td><td>0.69814</td></tr><tr><td>&quot;1eboE&quot;</td><td>&quot;5fhcJ&quot;</td><td>0.729</td><td>0.74829</td><td>0.76708</td><td>0.75481</td><td>0.76301</td><td>0.92481</td><td>0.92514</td><td>0.55875</td><td>0.49548</td><td>0.55155</td></tr><tr><td>&quot;2kb8A&quot;</td><td>&quot;6vw2A&quot;</td><td>0.47557</td><td>0.43906</td><td>0.50086</td><td>0.52258</td><td>0.43538</td><td>0.07925</td><td>0.07678</td><td>0.08462</td><td>0.08269</td><td>0.10248</td></tr><tr><td>&quot;4yhdG&quot;</td><td>&quot;7ahlE&quot;</td><td>0.77051</td><td>0.7721</td><td>0.89911</td><td>0.91397</td><td>0.90148</td><td>0.9884</td><td>0.90419</td><td>0.78641</td><td>0.78568</td><td>0.78578</td></tr><tr><td>&quot;6z4uA&quot;</td><td>&quot;7kdtB&quot;</td><td>0.65701</td><td>0.66491</td><td>0.18703</td><td>0.19704</td><td>0.20491</td><td>0.17574</td><td>0.17075</td><td>0.23039</td><td>0.22047</td><td>0.22047</td></tr></tbody></table></div>"
      ],
      "text/plain": [
       "shape: (93, 12)\n",
       "┌───────┬───────┬─────────────┬────────────┬───┬────────────┬────────────┬────────────┬────────────┐\n",
       "│ Fold1 ┆ Fold2 ┆ TM Model 1, ┆ TM Model   ┆ … ┆ TM Model   ┆ TM Model   ┆ TM Model   ┆ TM Model   │\n",
       "│ ---   ┆ ---   ┆ Fold1       ┆ 2, Fold1   ┆   ┆ 2, Fold2   ┆ 3, Fold2   ┆ 4, Fold2   ┆ 5, Fold2   │\n",
       "│ str   ┆ str   ┆ ---         ┆ ---        ┆   ┆ ---        ┆ ---        ┆ ---        ┆ ---        │\n",
       "│       ┆       ┆ f64         ┆ f64        ┆   ┆ f64        ┆ f64        ┆ f64        ┆ f64        │\n",
       "╞═══════╪═══════╪═════════════╪════════════╪═══╪════════════╪════════════╪════════════╪════════════╡\n",
       "│ 5tpnA ┆ 1g2cF ┆ 0.93469     ┆ 0.93454    ┆ … ┆ 0.62529    ┆ 0.75281    ┆ 0.74769    ┆ 0.75747    │\n",
       "│ 1h38D ┆ 1qlnA ┆ 0.91682     ┆ 0.91813    ┆ … ┆ 0.7223     ┆ 0.72014    ┆ 0.72237    ┆ 0.72286    │\n",
       "│ 1k0nA ┆ 1rk4B ┆ 0.92488     ┆ 0.92472    ┆ … ┆ 0.70524    ┆ 0.70793    ┆ 0.70723    ┆ 0.70646    │\n",
       "│ 1mnmC ┆ 1mnmD ┆ 0.6478      ┆ 0.64558    ┆ … ┆ 0.63141    ┆ 0.64163    ┆ 0.64513    ┆ 0.63569    │\n",
       "│ 1nqdA ┆ 1nqjB ┆ 0.89098     ┆ 0.89118    ┆ … ┆ 0.82225    ┆ 0.81909    ┆ 0.81955    ┆ 0.81855    │\n",
       "│ …     ┆ …     ┆ …           ┆ …          ┆ … ┆ …          ┆ …          ┆ …          ┆ …          │\n",
       "│ 5f5rB ┆ 5f3kA ┆ 0.70584     ┆ 0.70537    ┆ … ┆ 0.67905    ┆ 0.69615    ┆ 0.69624    ┆ 0.69814    │\n",
       "│ 1eboE ┆ 5fhcJ ┆ 0.729       ┆ 0.74829    ┆ … ┆ 0.92514    ┆ 0.55875    ┆ 0.49548    ┆ 0.55155    │\n",
       "│ 2kb8A ┆ 6vw2A ┆ 0.47557     ┆ 0.43906    ┆ … ┆ 0.07678    ┆ 0.08462    ┆ 0.08269    ┆ 0.10248    │\n",
       "│ 4yhdG ┆ 7ahlE ┆ 0.77051     ┆ 0.7721     ┆ … ┆ 0.90419    ┆ 0.78641    ┆ 0.78568    ┆ 0.78578    │\n",
       "│ 6z4uA ┆ 7kdtB ┆ 0.65701     ┆ 0.66491    ┆ … ┆ 0.17075    ┆ 0.23039    ┆ 0.22047    ┆ 0.22047    │\n",
       "└───────┴───────┴─────────────┴────────────┴───┴────────────┴────────────┴────────────┴────────────┘"
      ]
     },
     "execution_count": 4,
     "metadata": {},
     "output_type": "execute_result"
    }
   ],
   "source": [
    "FoldswitchProteins().Table_S1C().to_df()"
   ]
  }
 ],
 "metadata": {
  "kernelspec": {
   "display_name": "Python 3",
   "language": "python",
   "name": "python3"
  },
  "language_info": {
   "codemirror_mode": {
    "name": "ipython",
    "version": 3
   },
   "file_extension": ".py",
   "mimetype": "text/x-python",
   "name": "python",
   "nbconvert_exporter": "python",
   "pygments_lexer": "ipython3",
   "version": "3.11.5"
  }
 },
 "nbformat": 4,
 "nbformat_minor": 2
}
